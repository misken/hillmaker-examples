{
 "cells": [
  {
   "cell_type": "markdown",
   "metadata": {},
   "source": [
    "# Using hillmaker in Windows (for previous users of MS Access version)\n",
    "\n",
    "In this notebook we'll focus on basic use of Hillmaker for analyzing occupancy in a typical hospital setting. The data is fictitious data from a hospital short stay unit. Patients flow through a short stay unit for a variety of procedures, tests or therapies. Let's assume patients can be classified into one of five categories of patient types: ART (arterialgram), CAT (post cardiac-cath), MYE (myelogram), IVT (IV therapy), and OTH (other). From one of our hospital information systems we were able to get raw data about the entry and exit times of each patient. For simplicity, the data is in a csv file.\n",
    "\n",
    "This example assumes you are already familiar with statistical occupancy analysis using the old version of [Hillmaker](http://hillmaker.sourceforge.net/) or some similar such tool. It also assumes some knowledge of using Python for analytical work.\n",
    "\n",
    "The following blog posts are helpful:\n",
    "\n",
    "[Computing occupancy statistics with Python - Part 1 of 3](http://nbviewer.ipython.org/github/misken/hselab-tutorials/blob/master/hillpy_bydate_demo.ipynb)\n",
    "\n",
    "[Computing occupancy statistics with Python - Part 2 of 3](http://nbviewer.ipython.org/github/misken/hselab-tutorials/blob/master/hillpy_occstats_demo.ipynb)\n",
    "\n",
    "## Current status of code\n",
    "The new hillmaker is implemented as a Python module which can be used by importing `hillmaker` and then calling the main hillmaker function, `make_hills()` (or any component function included in the module).  This new version of hillmaker is in what I'd call an alpha state. The output does match the Access version for the ShortStay database that I included in the original Hillmaker. I've been actively using it to process thousands of simulation output log files as part of a research project on OB patient flow. More testing is needed before I release it publicly, but it does appear to be doing its primary job correctly. Please let me know if you think it's computing something incorrectly. Before using for any real project work, you should do your own testing to confirm that it is working correctly. Use at your own risk.\n",
    "\n",
    "It is licensed under an [Apache 2.0 license](http://www.apache.org/licenses/LICENSE-2.0). It is a widely used permissive free software license. See https://en.wikipedia.org/wiki/Apache_License for additional information.\n",
    "\n"
   ]
  },
  {
   "cell_type": "markdown",
   "metadata": {},
   "source": [
    "## User interface plans\n",
    "Here's where I'd like some input from you, user of the old Access version of Hillmaker. Over the years, I (and many others) have used Hillmaker in a variety of ways, including:\n",
    "\n",
    "- MS Access form based GUI\n",
    "- run main Hillmaker sub from Access VBA Immediate Window\n",
    "- run Hillmaker main sub (and/or components subs) via custom VBA procedures\n",
    "\n",
    "I'd like users to be able to use the new Python based version in a number of different ways as well. As I'll show in this IPython notebook, it can be used by importing the `hillmaker` module and then calling Hillmaker functions via:\n",
    "\n",
    "- an IPython notebook (or any Python terminal such as an IPython shell or QT console, or IDLE)\n",
    "- a Python script with the input arguments set and passed via Python statements\n",
    "\n",
    "While these two options provide tons of flexibility for power users, I also want to create other interfaces that don't require users to write Python code. At a minimum, I plan to create a command line interface (CLI) as well as a GUI that is similar to the old Access version.\n",
    "\n",
    "### A CLI for Hillmaker\n",
    "Python has several nice tools for creating CLI's. Both `docopt` and `argparse` are part of the standard library. Layered on top of these are tools like [Click](http://click.pocoo.org/5/). See http://docs.python-guide.org/en/latest/scenarios/cli/ for more. A well designed CLI will make it easy to use Python from the command line in either Windows or Linux. \n",
    "\n",
    "### A GUI for Hillmaker\n",
    "This is uncharted territory for me. Python has [a number of frameworks/toolkits for creating GUI apps](https://wiki.python.org/moin/GuiProgramming). This is not the highest priority for me but I do plan on creating a GUI for Hillmaker. If anyone wants to help with this, awesome.\n",
    "\n"
   ]
  },
  {
   "cell_type": "markdown",
   "metadata": {},
   "source": [
    "## Installing Hillmaker\n",
    "Whereas the old Hillmaker required MS Access, the new one requires an installation of Python 3 along with several Python modules that are widely used for analytics and data science work. \n",
    "\n",
    "### Getting Python and a jillion analytical packages via Anaconda\n",
    "An very easy way to get Python 3 pre-configured with tons of analytical Python packages is to use the Anaconda distro for Python. From their [Downloads page](https://www.continuum.io/downloads):\n",
    "\n",
    "> Anaconda is a completely free Python distribution (including for commercial use and redistribution). \n",
    "> It includes more than 300 of the most popular Python packages for science, math, engineering, and \n",
    "> data analysis. See the packages included with Anaconda and the Anaconda changelog.\n",
    "    \n",
    "Make sure you download Python 3.x (3.5 is latest version as of January, 2016)\n",
    "\n",
    "There are several really nice reasons to use the Anaconda Python distro for data science work:\n",
    "\n",
    "- it comes preconfigured with hundreds of the most popular data science Python packages installed and they just work\n",
    "- large community of Anaconda data science users and vibrant user community on places like StackOverflow\n",
    "- it has a companion package manager called Conda which makes it easy to install new packages as well as to create and manage virtual environments\n",
    "\n",
    "### Getting Hillmaker\n",
    "\n",
    "As of January 22, 2016,hillmaker is publicly available from the Python Package Index known as [PyPi](https://pypi.python.org/pypi) as well as [Anaconda Cloud](http://anaconda.org/). They are similar to CRAN for R. Source code is also be available from my GitHub site https://github.com/misken/hillmaker and it is an open-source project. If you work with Python, you should know a little bit about [Python package installation](https://docs.python.org/3/installing/). There is already a companion project on GitHub called `hillmaker-examples` which contains, well, examples of hillmaker use cases. \n",
    "\n",
    "### Installing Hillmaker\n",
    "\n",
    "For now, by far the easiest thing to do is to simply use Conda to install hillmaker into your Anaconda root environment. You can always uninstall it using Conda as well.\n",
    "\n",
    "You can use either `pip` or `conda` to install hillmaker. I suggest learning about Python virtual environments and either using `pyenv`, `virtualenv` or `conda` (preferred) to create a Python virtual environment and then install hillmaker into it. This way you avoid mixing developmental third-party packages like Hillmaker with your base Anaconda Python environment. \n",
    "\n",
    "\n",
    "#### Step 1 - Open a command shell and install using Conda or Pip\n",
    "\n",
    "In Windows, just run cmd.exe from the Start Menu. Then use the `cd` command to get yourself into some working\n",
    "folder. Let's say it's: `\\Documents\\hillmaker` \n",
    "\n",
    "\n",
    "To install using  `conda`:\n",
    "\n",
    "```sh\n",
    "c:\\Users\\jerry\\Documents\\hillmaker>conda install -c https://conda.anaconda.org/hselab hillmaker\n",
    "```\n",
    "\n",
    "OR\n",
    "\n",
    "To install using  `pip`:\n",
    "\n",
    "```sh\n",
    "c:\\Users\\jerry\\Documents\\hillmaker>pip install hillmaker\n",
    "```\n",
    "\n",
    "#### Step 2 - Confirm that hillmaker was installed\n",
    "\n",
    "Use the `conda list` command to see all the installed packages in your Anaconda3 root.\n",
    "\n",
    "```sh\n",
    "c:\\Users\\jerry\\Documents\\hillmaker>conda list\n",
    "```\n",
    "\n",
    "Now fire up a Python session and try to import `hillmaker`.\n",
    "\n",
    "```sh\n",
    "c:\\Users\\jerry\\Documents\\hillmaker>python\n",
    "Python 3.5.1 |Continuum Analytics, Inc.| (default, Dec  7 2015, 11:16:01) \n",
    "[MSC v.1900 64 bit (AMD64)] on win32\n",
    "Type \"help\", \"copyright\", \"credits\" or \"license\" for more information.\n",
    ">>> import hillmaker\n",
    ">>> help(hillmaker.make_hills)\n",
    "Help on function make_hills in module hillmaker.hills:\n",
    "\n",
    "make_hills(scenario_name, stops_df, infield, outfield, start_analysis, end_analysis, catfield='', total_str='Total', bin_size_minutes=60, cat_to_exclude=None, totals=True, export_csv=True, export_path='.', return_dataframes=False, verbose=0)\n",
    "    Compute occupancy, arrival, and departure statistics by time bin of day and day of week.\n",
    "    \n",
    "    Main function that first calls `bydatetime.make_bydatetime` to calculate occupancy, arrival\n",
    "    and departure values by date by time bin and then calls `summarize.summarize_bydatetime`\n",
    "    to compute the summary statistics.\n",
    "    \n",
    "    Parameters\n",
    "    ----------\n",
    "    scenario_name : string\n",
    "        Used in output filenames\n",
    "    stops_df : DataFrame\n",
    "        Base data containing one row per visit\n",
    "    infield : string\n",
    "        Column name corresponding to the arrival times\n",
    "```\n",
    "*... a bunch more stuff ...*\n",
    "\n",
    "If the install went well, you shouldn't get any errors when you import hillmaker and the help() command should show you the docstring for the `make_hills()` function.\n"
   ]
  },
  {
   "cell_type": "markdown",
   "metadata": {},
   "source": [
    "## Using hillmaker\n",
    "The rest of this IPython notebook will illustrate a few ways to use the `hillmaker` package."
   ]
  },
  {
   "cell_type": "markdown",
   "metadata": {},
   "source": [
    "### Module imports\n",
    "To run Hillmaker we only need to import a few modules. Since the main Hillmaker function uses Pandas DataFrames for both data input and output, we need to import `pandas` in addition to `hillmaker`."
   ]
  },
  {
   "cell_type": "code",
   "execution_count": 1,
   "metadata": {
    "collapsed": false
   },
   "outputs": [],
   "source": [
    "import pandas as pd\n",
    "import hillmaker as hm"
   ]
  },
  {
   "cell_type": "markdown",
   "metadata": {
    "collapsed": true
   },
   "source": [
    "### Read main stop data file\n",
    "Here's the first few lines from our csv file containing the patient stop data:\n",
    "\n",
    "    PatID,InRoomTS,OutRoomTS,PatType\n",
    "    1,1/1/1996 7:44,1/1/1996 8:50,IVT\n",
    "    2,1/1/1996 8:28,1/1/1996 9:20,IVT\n",
    "    3,1/1/1996 11:44,1/1/1996 13:30,MYE\n",
    "    4,1/1/1996 11:51,1/1/1996 12:55,CAT\n",
    "    5,1/1/1996 12:10,1/1/1996 13:00,IVT\n",
    "    6,1/1/1996 14:16,1/1/1996 15:35,IVT\n",
    "    7,1/1/1996 14:40,1/1/1996 15:25,IVT\n",
    "\n",
    "\n",
    "Read the short stay data from a csv file into a DataFrame and tell Pandas which fields to treat as dates. "
   ]
  },
  {
   "cell_type": "code",
   "execution_count": 2,
   "metadata": {
    "collapsed": false
   },
   "outputs": [
    {
     "name": "stdout",
     "output_type": "stream",
     "text": [
      "<class 'pandas.core.frame.DataFrame'>\n",
      "Int64Index: 59877 entries, 0 to 59876\n",
      "Data columns (total 4 columns):\n",
      "PatID        59877 non-null int64\n",
      "InRoomTS     59877 non-null datetime64[ns]\n",
      "OutRoomTS    59877 non-null datetime64[ns]\n",
      "PatType      59877 non-null object\n",
      "dtypes: datetime64[ns](2), int64(1), object(1)\n",
      "memory usage: 2.3+ MB\n"
     ]
    }
   ],
   "source": [
    "file_stopdata = '../data/ShortStay.csv'\n",
    "stops_df = pd.read_csv(file_stopdata, parse_dates=['InRoomTS','OutRoomTS'])\n",
    "stops_df.info() # Check out the structure of the resulting DataFrame"
   ]
  },
  {
   "cell_type": "markdown",
   "metadata": {},
   "source": [
    "Check out the top and bottom of `stops_df`. "
   ]
  },
  {
   "cell_type": "code",
   "execution_count": 3,
   "metadata": {
    "collapsed": false
   },
   "outputs": [
    {
     "data": {
      "text/html": [
       "<div>\n",
       "<table border=\"1\" class=\"dataframe\">\n",
       "  <thead>\n",
       "    <tr style=\"text-align: right;\">\n",
       "      <th></th>\n",
       "      <th>PatID</th>\n",
       "      <th>InRoomTS</th>\n",
       "      <th>OutRoomTS</th>\n",
       "      <th>PatType</th>\n",
       "    </tr>\n",
       "  </thead>\n",
       "  <tbody>\n",
       "    <tr>\n",
       "      <th>0</th>\n",
       "      <td>1</td>\n",
       "      <td>1996-01-01 07:44:00</td>\n",
       "      <td>1996-01-01 08:50:00</td>\n",
       "      <td>IVT</td>\n",
       "    </tr>\n",
       "    <tr>\n",
       "      <th>1</th>\n",
       "      <td>2</td>\n",
       "      <td>1996-01-01 08:28:00</td>\n",
       "      <td>1996-01-01 09:20:00</td>\n",
       "      <td>IVT</td>\n",
       "    </tr>\n",
       "    <tr>\n",
       "      <th>2</th>\n",
       "      <td>3</td>\n",
       "      <td>1996-01-01 11:44:00</td>\n",
       "      <td>1996-01-01 13:30:00</td>\n",
       "      <td>MYE</td>\n",
       "    </tr>\n",
       "    <tr>\n",
       "      <th>3</th>\n",
       "      <td>4</td>\n",
       "      <td>1996-01-01 11:51:00</td>\n",
       "      <td>1996-01-01 12:55:00</td>\n",
       "      <td>CAT</td>\n",
       "    </tr>\n",
       "    <tr>\n",
       "      <th>4</th>\n",
       "      <td>5</td>\n",
       "      <td>1996-01-01 12:10:00</td>\n",
       "      <td>1996-01-01 13:00:00</td>\n",
       "      <td>IVT</td>\n",
       "    </tr>\n",
       "    <tr>\n",
       "      <th>5</th>\n",
       "      <td>6</td>\n",
       "      <td>1996-01-01 14:16:00</td>\n",
       "      <td>1996-01-01 15:35:00</td>\n",
       "      <td>IVT</td>\n",
       "    </tr>\n",
       "    <tr>\n",
       "      <th>6</th>\n",
       "      <td>7</td>\n",
       "      <td>1996-01-01 14:40:00</td>\n",
       "      <td>1996-01-01 15:25:00</td>\n",
       "      <td>IVT</td>\n",
       "    </tr>\n",
       "  </tbody>\n",
       "</table>\n",
       "</div>"
      ],
      "text/plain": [
       "   PatID            InRoomTS           OutRoomTS PatType\n",
       "0      1 1996-01-01 07:44:00 1996-01-01 08:50:00     IVT\n",
       "1      2 1996-01-01 08:28:00 1996-01-01 09:20:00     IVT\n",
       "2      3 1996-01-01 11:44:00 1996-01-01 13:30:00     MYE\n",
       "3      4 1996-01-01 11:51:00 1996-01-01 12:55:00     CAT\n",
       "4      5 1996-01-01 12:10:00 1996-01-01 13:00:00     IVT\n",
       "5      6 1996-01-01 14:16:00 1996-01-01 15:35:00     IVT\n",
       "6      7 1996-01-01 14:40:00 1996-01-01 15:25:00     IVT"
      ]
     },
     "execution_count": 3,
     "metadata": {},
     "output_type": "execute_result"
    }
   ],
   "source": [
    "stops_df.head(7)"
   ]
  },
  {
   "cell_type": "code",
   "execution_count": 4,
   "metadata": {
    "collapsed": false
   },
   "outputs": [
    {
     "data": {
      "text/html": [
       "<div>\n",
       "<table border=\"1\" class=\"dataframe\">\n",
       "  <thead>\n",
       "    <tr style=\"text-align: right;\">\n",
       "      <th></th>\n",
       "      <th>PatID</th>\n",
       "      <th>InRoomTS</th>\n",
       "      <th>OutRoomTS</th>\n",
       "      <th>PatType</th>\n",
       "    </tr>\n",
       "  </thead>\n",
       "  <tbody>\n",
       "    <tr>\n",
       "      <th>59872</th>\n",
       "      <td>59873</td>\n",
       "      <td>1996-09-30 19:31:00</td>\n",
       "      <td>1996-09-30 20:15:00</td>\n",
       "      <td>IVT</td>\n",
       "    </tr>\n",
       "    <tr>\n",
       "      <th>59873</th>\n",
       "      <td>59874</td>\n",
       "      <td>1996-09-30 20:23:00</td>\n",
       "      <td>1996-09-30 21:30:00</td>\n",
       "      <td>IVT</td>\n",
       "    </tr>\n",
       "    <tr>\n",
       "      <th>59874</th>\n",
       "      <td>59875</td>\n",
       "      <td>1996-09-30 21:00:00</td>\n",
       "      <td>1996-09-30 22:45:00</td>\n",
       "      <td>CAT</td>\n",
       "    </tr>\n",
       "    <tr>\n",
       "      <th>59875</th>\n",
       "      <td>59876</td>\n",
       "      <td>1996-09-30 21:57:00</td>\n",
       "      <td>1996-09-30 22:40:00</td>\n",
       "      <td>IVT</td>\n",
       "    </tr>\n",
       "    <tr>\n",
       "      <th>59876</th>\n",
       "      <td>59877</td>\n",
       "      <td>1996-09-30 22:45:00</td>\n",
       "      <td>1996-09-30 23:35:00</td>\n",
       "      <td>CAT</td>\n",
       "    </tr>\n",
       "  </tbody>\n",
       "</table>\n",
       "</div>"
      ],
      "text/plain": [
       "       PatID            InRoomTS           OutRoomTS PatType\n",
       "59872  59873 1996-09-30 19:31:00 1996-09-30 20:15:00     IVT\n",
       "59873  59874 1996-09-30 20:23:00 1996-09-30 21:30:00     IVT\n",
       "59874  59875 1996-09-30 21:00:00 1996-09-30 22:45:00     CAT\n",
       "59875  59876 1996-09-30 21:57:00 1996-09-30 22:40:00     IVT\n",
       "59876  59877 1996-09-30 22:45:00 1996-09-30 23:35:00     CAT"
      ]
     },
     "execution_count": 4,
     "metadata": {},
     "output_type": "execute_result"
    }
   ],
   "source": [
    "stops_df.tail(5)"
   ]
  },
  {
   "cell_type": "markdown",
   "metadata": {},
   "source": [
    "No obvious problems. We'll assume the data was all read in correctly."
   ]
  },
  {
   "cell_type": "markdown",
   "metadata": {},
   "source": [
    "### Creating occupancy summaries\n",
    "The primary function in Hillmaker is called `make_hills` and plays the same role as the `Hillmaker` function in the original Access VBA version of Hillmaker. Let's get a little help on this function."
   ]
  },
  {
   "cell_type": "code",
   "execution_count": 5,
   "metadata": {
    "collapsed": false
   },
   "outputs": [
    {
     "name": "stdout",
     "output_type": "stream",
     "text": [
      "Help on function make_hills in module hillmaker.hills:\n",
      "\n",
      "make_hills(scenario_name, stops_df, infield, outfield, start_analysis, end_analysis, catfield='', total_str='Total', bin_size_minutes=60, cat_to_exclude=None, totals=True, export_csv=True, export_path='.', return_dataframes=False, verbose=0)\n",
      "    Compute occupancy, arrival, and departure statistics by time bin of day and day of week.\n",
      "    \n",
      "    Main function that first calls `bydatetime.make_bydatetime` to calculate occupancy, arrival\n",
      "    and departure values by date by time bin and then calls `summarize.summarize_bydatetime`\n",
      "    to compute the summary statistics.\n",
      "    \n",
      "    Parameters\n",
      "    ----------\n",
      "    scenario_name : string\n",
      "        Used in output filenames\n",
      "    stops_df : DataFrame\n",
      "        Base data containing one row per visit\n",
      "    infield : string\n",
      "        Column name corresponding to the arrival times\n",
      "    outfield : string\n",
      "        Column name corresponding to the departure times\n",
      "    start_analysis : datetime-like, str\n",
      "        Starting datetime for the analysis (must be convertible to pandas Timestamp)\n",
      "    end_analysis : datetime-like, str\n",
      "        Ending datetime for the analysis (must be convertible to pandas Timestamp)\n",
      "    catfield : string, optional\n",
      "        Column name corresponding to the category. If none is specified, then only overall occupancy is analyzed.\n",
      "        Default is ''\n",
      "    total_str : string, optional\n",
      "        Column name to use for the overall category, default is 'Total'\n",
      "    bin_size_minutes : int, optional\n",
      "        Number of minutes in each time bin of the day, default is 60\n",
      "    cat_to_exclude : list, optional\n",
      "        Categories to ignore, default is None\n",
      "    totals : bool, optional\n",
      "       If true, overall totals are computed. Else, just category specific values computed. Default is True.\n",
      "    export_csv : bool, optional\n",
      "       If true, results DataFrames are exported to csv files. Default is True.\n",
      "    export_path : string, optional\n",
      "        Destination path for exported csv files, default is current directory\n",
      "    return_dataframes : bool, optional\n",
      "        If true, dictionary of DataFrames is returned. Default is False.\n",
      "    verbose : int, optional\n",
      "        The verbosity level. The default, zero, means silent mode. Higher numbers mean more output messages.\n",
      "    \n",
      "    Returns\n",
      "    -------\n",
      "    dict of DataFrames\n",
      "       The bydatetime and all summaries.\n",
      "    \n",
      "       Only returned if return_dataframes=True\n",
      "    \n",
      "       Example:\n",
      "    \n",
      "       {'bydatetime': bydt_df,\n",
      "        'occupancy': occ_stats_summary,\n",
      "        'arrivals': arr_stats_summary,\n",
      "        'departures': dep_stats_summary,\n",
      "        'tot_occ': occ_stats_summary_cat,\n",
      "        'tot_arr': arr_stats_summary_cat,\n",
      "        'tot_dep': dep_stats_summary_cat}\n",
      "\n"
     ]
    }
   ],
   "source": [
    "help(hm.make_hills)"
   ]
  },
  {
   "cell_type": "markdown",
   "metadata": {},
   "source": [
    "Most of the parameters are similar to those in the original VBA version, though a few new ones have been added. For example, the `cat_to_exclude` parameter allows you to specify a list of category values for which you do not want occupancy statistics computed. Also, since the VBA version used an Access database as the container for its output, new parameters were added to control output to csv files instead."
   ]
  },
  {
   "cell_type": "markdown",
   "metadata": {},
   "source": [
    "#### Example 1: 60 minute bins, all categories, export to csv\n",
    "Specify values for all the required inputs:"
   ]
  },
  {
   "cell_type": "code",
   "execution_count": 16,
   "metadata": {
    "collapsed": true
   },
   "outputs": [],
   "source": [
    "# Required inputs\n",
    "scenario = 'ss_example_1'\n",
    "in_fld_name = 'InRoomTS'\n",
    "out_fld_name = 'OutRoomTS'\n",
    "cat_fld_name = 'PatType'\n",
    "start = '1/1/1996'\n",
    "end = '3/30/1996 23:45'\n",
    "\n",
    "# Optional inputs\n",
    "verbose = 1\n",
    "output = './output'\n"
   ]
  },
  {
   "cell_type": "markdown",
   "metadata": {},
   "source": [
    "Now we'll call the main `make_hills` function. We won't capture the return values but will simply take the default behavior of having the summaries exported to csv files. You'll see that the filenames will contain the scenario value."
   ]
  },
  {
   "cell_type": "code",
   "execution_count": 17,
   "metadata": {
    "collapsed": false
   },
   "outputs": [
    {
     "name": "stdout",
     "output_type": "stream",
     "text": [
      "min of intime: 1996-01-01 07:44:00\n",
      "max of outtime: 1996-09-30 23:35:00\n",
      "Datetime DataFrame created (seconds): 18.0369\n",
      "Summaries by datetime created (seconds): 33.9729\n",
      "Summaries by category created (seconds): 0.2510\n",
      "Summaries exported to csv (seconds): 0.2879\n",
      "Total time (seconds): 52.5504\n"
     ]
    }
   ],
   "source": [
    "hm.make_hills(scenario, stops_df, in_fld_name, out_fld_name, start, end, cat_fld_name, \n",
    "              export_path=output, verbose=verbose)"
   ]
  },
  {
   "cell_type": "markdown",
   "metadata": {},
   "source": [
    "Here's a screenshot of the output folder containing the csv files created by Hillmaker. "
   ]
  },
  {
   "cell_type": "markdown",
   "metadata": {},
   "source": [
    "![folder with output csv files](images/example_1_files.png)"
   ]
  },
  {
   "cell_type": "markdown",
   "metadata": {},
   "source": [
    "If you've used the previous version of Hillmaker, you'll recognize these files. A few more statistics have been added, but otherwise they are the same. These csv files can be imported into a spreadsheet application for plot creation. Of course, we can also make plots in Python. \n",
    "\n",
    "![folder with output csv files](images/example_1_occ.png)"
   ]
  },
  {
   "cell_type": "markdown",
   "metadata": {},
   "source": [
    "The files with 'cat' in their name are new. They contain summary overall summary statistics by category. In other words, they are NOT by time of day and day of week.\n",
    "\n",
    "![folder with output csv files](images/example_1_occ_cat.png)"
   ]
  },
  {
   "cell_type": "markdown",
   "metadata": {},
   "source": [
    "#### Example 2: 30 minute bins, only CAT and IVT, return values to DataFrames"
   ]
  },
  {
   "cell_type": "code",
   "execution_count": 8,
   "metadata": {
    "collapsed": true
   },
   "outputs": [],
   "source": [
    "# Required inputs - same as Example 1 except for scenario name\n",
    "scenario = 'ss_example_2'\n",
    "in_fld_name = 'InRoomTS'\n",
    "out_fld_name = 'OutRoomTS'\n",
    "cat_fld_name = 'PatType'\n",
    "start = '1/1/1996'\n",
    "end = '3/30/1996 23:45'\n",
    "\n",
    "# Optional inputs\n",
    "tot_fld_name = 'CAT_IVT' # Just to make it clear that it's only these patient types\n",
    "bin_mins = 30 # Half-hour time bins\n",
    "exclude = ['ART','MYE','OTH'] # Tell Hillmaker to ignore these patient types\n",
    "outputpath = '.'\n"
   ]
  },
  {
   "cell_type": "markdown",
   "metadata": {},
   "source": [
    "Now we'll call `make_hills` and tuck the results (a dictionary of DataFrames) into a local variable. Then we can explore them a bit with Pandas."
   ]
  },
  {
   "cell_type": "code",
   "execution_count": 9,
   "metadata": {
    "collapsed": true
   },
   "outputs": [],
   "source": [
    "results_ex2 = hm.make_hills(scenario, stops_df, in_fld_name, out_fld_name, start, end, cat_fld_name,\n",
    "                            total_str=tot_fld_name, bin_size_minutes=bin_mins, export_path=outputpath,\n",
    "                            cat_to_exclude=exclude, return_dataframes=True)"
   ]
  },
  {
   "cell_type": "code",
   "execution_count": 10,
   "metadata": {
    "collapsed": false
   },
   "outputs": [
    {
     "data": {
      "text/plain": [
       "dict_keys(['bydatetime', 'tot_dep', 'occupancy', 'tot_arr', 'tot_occ', 'arrivals', 'departures'])"
      ]
     },
     "execution_count": 10,
     "metadata": {},
     "output_type": "execute_result"
    }
   ],
   "source": [
    "results_ex2.keys()"
   ]
  },
  {
   "cell_type": "code",
   "execution_count": 11,
   "metadata": {
    "collapsed": true
   },
   "outputs": [],
   "source": [
    "occ_df = results_ex2['occupancy']"
   ]
  },
  {
   "cell_type": "code",
   "execution_count": 12,
   "metadata": {
    "collapsed": false
   },
   "outputs": [
    {
     "data": {
      "text/html": [
       "<div>\n",
       "<table border=\"1\" class=\"dataframe\">\n",
       "  <thead>\n",
       "    <tr style=\"text-align: right;\">\n",
       "      <th></th>\n",
       "      <th></th>\n",
       "      <th></th>\n",
       "      <th>count</th>\n",
       "      <th>cv</th>\n",
       "      <th>kurt</th>\n",
       "      <th>max</th>\n",
       "      <th>mean</th>\n",
       "      <th>min</th>\n",
       "      <th>p50</th>\n",
       "      <th>p55</th>\n",
       "      <th>p60</th>\n",
       "      <th>p65</th>\n",
       "      <th>...</th>\n",
       "      <th>p80</th>\n",
       "      <th>p85</th>\n",
       "      <th>p90</th>\n",
       "      <th>p95</th>\n",
       "      <th>p975</th>\n",
       "      <th>p99</th>\n",
       "      <th>sem</th>\n",
       "      <th>skew</th>\n",
       "      <th>stdev</th>\n",
       "      <th>var</th>\n",
       "    </tr>\n",
       "    <tr>\n",
       "      <th>category</th>\n",
       "      <th>day_of_week</th>\n",
       "      <th>bin_of_day</th>\n",
       "      <th></th>\n",
       "      <th></th>\n",
       "      <th></th>\n",
       "      <th></th>\n",
       "      <th></th>\n",
       "      <th></th>\n",
       "      <th></th>\n",
       "      <th></th>\n",
       "      <th></th>\n",
       "      <th></th>\n",
       "      <th></th>\n",
       "      <th></th>\n",
       "      <th></th>\n",
       "      <th></th>\n",
       "      <th></th>\n",
       "      <th></th>\n",
       "      <th></th>\n",
       "      <th></th>\n",
       "      <th></th>\n",
       "      <th></th>\n",
       "      <th></th>\n",
       "    </tr>\n",
       "  </thead>\n",
       "  <tbody>\n",
       "    <tr>\n",
       "      <th rowspan=\"5\" valign=\"top\">CAT</th>\n",
       "      <th rowspan=\"5\" valign=\"top\">0</th>\n",
       "      <th>0</th>\n",
       "      <td>13</td>\n",
       "      <td>1.916684</td>\n",
       "      <td>0.509139</td>\n",
       "      <td>0.633333</td>\n",
       "      <td>0.125641</td>\n",
       "      <td>0</td>\n",
       "      <td>0</td>\n",
       "      <td>0</td>\n",
       "      <td>0.000000</td>\n",
       "      <td>0.000000</td>\n",
       "      <td>...</td>\n",
       "      <td>0.30</td>\n",
       "      <td>0.500000</td>\n",
       "      <td>0.500000</td>\n",
       "      <td>0.553333</td>\n",
       "      <td>0.593333</td>\n",
       "      <td>0.617333</td>\n",
       "      <td>0.066790</td>\n",
       "      <td>1.522946</td>\n",
       "      <td>0.240814</td>\n",
       "      <td>0.057991</td>\n",
       "    </tr>\n",
       "    <tr>\n",
       "      <th>1</th>\n",
       "      <td>13</td>\n",
       "      <td>3.605551</td>\n",
       "      <td>13.000000</td>\n",
       "      <td>0.333333</td>\n",
       "      <td>0.025641</td>\n",
       "      <td>0</td>\n",
       "      <td>0</td>\n",
       "      <td>0</td>\n",
       "      <td>0.000000</td>\n",
       "      <td>0.000000</td>\n",
       "      <td>...</td>\n",
       "      <td>0.00</td>\n",
       "      <td>0.000000</td>\n",
       "      <td>0.000000</td>\n",
       "      <td>0.133333</td>\n",
       "      <td>0.233333</td>\n",
       "      <td>0.293333</td>\n",
       "      <td>0.025641</td>\n",
       "      <td>3.605551</td>\n",
       "      <td>0.092450</td>\n",
       "      <td>0.008547</td>\n",
       "    </tr>\n",
       "    <tr>\n",
       "      <th>2</th>\n",
       "      <td>13</td>\n",
       "      <td>3.605551</td>\n",
       "      <td>13.000000</td>\n",
       "      <td>0.966667</td>\n",
       "      <td>0.074359</td>\n",
       "      <td>0</td>\n",
       "      <td>0</td>\n",
       "      <td>0</td>\n",
       "      <td>0.000000</td>\n",
       "      <td>0.000000</td>\n",
       "      <td>...</td>\n",
       "      <td>0.00</td>\n",
       "      <td>0.000000</td>\n",
       "      <td>0.000000</td>\n",
       "      <td>0.386667</td>\n",
       "      <td>0.676667</td>\n",
       "      <td>0.850667</td>\n",
       "      <td>0.074359</td>\n",
       "      <td>3.605551</td>\n",
       "      <td>0.268105</td>\n",
       "      <td>0.071880</td>\n",
       "    </tr>\n",
       "    <tr>\n",
       "      <th>3</th>\n",
       "      <td>13</td>\n",
       "      <td>3.076846</td>\n",
       "      <td>12.025087</td>\n",
       "      <td>0.966667</td>\n",
       "      <td>0.087179</td>\n",
       "      <td>0</td>\n",
       "      <td>0</td>\n",
       "      <td>0</td>\n",
       "      <td>0.000000</td>\n",
       "      <td>0.000000</td>\n",
       "      <td>...</td>\n",
       "      <td>0.00</td>\n",
       "      <td>0.033333</td>\n",
       "      <td>0.133333</td>\n",
       "      <td>0.486667</td>\n",
       "      <td>0.726667</td>\n",
       "      <td>0.870667</td>\n",
       "      <td>0.074396</td>\n",
       "      <td>3.436715</td>\n",
       "      <td>0.268238</td>\n",
       "      <td>0.071952</td>\n",
       "    </tr>\n",
       "    <tr>\n",
       "      <th>4</th>\n",
       "      <td>13</td>\n",
       "      <td>1.344087</td>\n",
       "      <td>-1.657170</td>\n",
       "      <td>1.000000</td>\n",
       "      <td>0.328205</td>\n",
       "      <td>0</td>\n",
       "      <td>0</td>\n",
       "      <td>0</td>\n",
       "      <td>0.126667</td>\n",
       "      <td>0.506667</td>\n",
       "      <td>...</td>\n",
       "      <td>0.82</td>\n",
       "      <td>0.866667</td>\n",
       "      <td>0.966667</td>\n",
       "      <td>1.000000</td>\n",
       "      <td>1.000000</td>\n",
       "      <td>1.000000</td>\n",
       "      <td>0.122349</td>\n",
       "      <td>0.672111</td>\n",
       "      <td>0.441136</td>\n",
       "      <td>0.194601</td>\n",
       "    </tr>\n",
       "  </tbody>\n",
       "</table>\n",
       "<p>5 rows × 22 columns</p>\n",
       "</div>"
      ],
      "text/plain": [
       "                                 count        cv       kurt       max  \\\n",
       "category day_of_week bin_of_day                                         \n",
       "CAT      0           0              13  1.916684   0.509139  0.633333   \n",
       "                     1              13  3.605551  13.000000  0.333333   \n",
       "                     2              13  3.605551  13.000000  0.966667   \n",
       "                     3              13  3.076846  12.025087  0.966667   \n",
       "                     4              13  1.344087  -1.657170  1.000000   \n",
       "\n",
       "                                     mean  min  p50  p55       p60       p65  \\\n",
       "category day_of_week bin_of_day                                                \n",
       "CAT      0           0           0.125641    0    0    0  0.000000  0.000000   \n",
       "                     1           0.025641    0    0    0  0.000000  0.000000   \n",
       "                     2           0.074359    0    0    0  0.000000  0.000000   \n",
       "                     3           0.087179    0    0    0  0.000000  0.000000   \n",
       "                     4           0.328205    0    0    0  0.126667  0.506667   \n",
       "\n",
       "                                   ...      p80       p85       p90       p95  \\\n",
       "category day_of_week bin_of_day    ...                                          \n",
       "CAT      0           0             ...     0.30  0.500000  0.500000  0.553333   \n",
       "                     1             ...     0.00  0.000000  0.000000  0.133333   \n",
       "                     2             ...     0.00  0.000000  0.000000  0.386667   \n",
       "                     3             ...     0.00  0.033333  0.133333  0.486667   \n",
       "                     4             ...     0.82  0.866667  0.966667  1.000000   \n",
       "\n",
       "                                     p975       p99       sem      skew  \\\n",
       "category day_of_week bin_of_day                                           \n",
       "CAT      0           0           0.593333  0.617333  0.066790  1.522946   \n",
       "                     1           0.233333  0.293333  0.025641  3.605551   \n",
       "                     2           0.676667  0.850667  0.074359  3.605551   \n",
       "                     3           0.726667  0.870667  0.074396  3.436715   \n",
       "                     4           1.000000  1.000000  0.122349  0.672111   \n",
       "\n",
       "                                    stdev       var  \n",
       "category day_of_week bin_of_day                      \n",
       "CAT      0           0           0.240814  0.057991  \n",
       "                     1           0.092450  0.008547  \n",
       "                     2           0.268105  0.071880  \n",
       "                     3           0.268238  0.071952  \n",
       "                     4           0.441136  0.194601  \n",
       "\n",
       "[5 rows x 22 columns]"
      ]
     },
     "execution_count": 12,
     "metadata": {},
     "output_type": "execute_result"
    }
   ],
   "source": [
    "occ_df.head()"
   ]
  },
  {
   "cell_type": "code",
   "execution_count": 13,
   "metadata": {
    "collapsed": false
   },
   "outputs": [
    {
     "data": {
      "text/html": [
       "<div>\n",
       "<table border=\"1\" class=\"dataframe\">\n",
       "  <thead>\n",
       "    <tr style=\"text-align: right;\">\n",
       "      <th></th>\n",
       "      <th></th>\n",
       "      <th></th>\n",
       "      <th>count</th>\n",
       "      <th>cv</th>\n",
       "      <th>kurt</th>\n",
       "      <th>max</th>\n",
       "      <th>mean</th>\n",
       "      <th>min</th>\n",
       "      <th>p50</th>\n",
       "      <th>p55</th>\n",
       "      <th>p60</th>\n",
       "      <th>p65</th>\n",
       "      <th>...</th>\n",
       "      <th>p80</th>\n",
       "      <th>p85</th>\n",
       "      <th>p90</th>\n",
       "      <th>p95</th>\n",
       "      <th>p975</th>\n",
       "      <th>p99</th>\n",
       "      <th>sem</th>\n",
       "      <th>skew</th>\n",
       "      <th>stdev</th>\n",
       "      <th>var</th>\n",
       "    </tr>\n",
       "    <tr>\n",
       "      <th>category</th>\n",
       "      <th>day_of_week</th>\n",
       "      <th>bin_of_day</th>\n",
       "      <th></th>\n",
       "      <th></th>\n",
       "      <th></th>\n",
       "      <th></th>\n",
       "      <th></th>\n",
       "      <th></th>\n",
       "      <th></th>\n",
       "      <th></th>\n",
       "      <th></th>\n",
       "      <th></th>\n",
       "      <th></th>\n",
       "      <th></th>\n",
       "      <th></th>\n",
       "      <th></th>\n",
       "      <th></th>\n",
       "      <th></th>\n",
       "      <th></th>\n",
       "      <th></th>\n",
       "      <th></th>\n",
       "      <th></th>\n",
       "      <th></th>\n",
       "    </tr>\n",
       "  </thead>\n",
       "  <tbody>\n",
       "    <tr>\n",
       "      <th rowspan=\"5\" valign=\"top\">IVT</th>\n",
       "      <th rowspan=\"5\" valign=\"top\">6</th>\n",
       "      <th>43</th>\n",
       "      <td>12</td>\n",
       "      <td>1.929904</td>\n",
       "      <td>2.592905</td>\n",
       "      <td>1.000000</td>\n",
       "      <td>0.172222</td>\n",
       "      <td>0</td>\n",
       "      <td>0</td>\n",
       "      <td>0</td>\n",
       "      <td>0</td>\n",
       "      <td>0</td>\n",
       "      <td>...</td>\n",
       "      <td>0.4</td>\n",
       "      <td>0.523333</td>\n",
       "      <td>0.56</td>\n",
       "      <td>0.761667</td>\n",
       "      <td>0.880833</td>\n",
       "      <td>0.952333</td>\n",
       "      <td>0.095948</td>\n",
       "      <td>1.835588</td>\n",
       "      <td>0.332372</td>\n",
       "      <td>0.110471</td>\n",
       "    </tr>\n",
       "    <tr>\n",
       "      <th>44</th>\n",
       "      <td>12</td>\n",
       "      <td>3.464102</td>\n",
       "      <td>12.000000</td>\n",
       "      <td>1.000000</td>\n",
       "      <td>0.083333</td>\n",
       "      <td>0</td>\n",
       "      <td>0</td>\n",
       "      <td>0</td>\n",
       "      <td>0</td>\n",
       "      <td>0</td>\n",
       "      <td>...</td>\n",
       "      <td>0.0</td>\n",
       "      <td>0.000000</td>\n",
       "      <td>0.00</td>\n",
       "      <td>0.450000</td>\n",
       "      <td>0.725000</td>\n",
       "      <td>0.890000</td>\n",
       "      <td>0.083333</td>\n",
       "      <td>3.464102</td>\n",
       "      <td>0.288675</td>\n",
       "      <td>0.083333</td>\n",
       "    </tr>\n",
       "    <tr>\n",
       "      <th>45</th>\n",
       "      <td>12</td>\n",
       "      <td>2.372342</td>\n",
       "      <td>3.667887</td>\n",
       "      <td>0.833333</td>\n",
       "      <td>0.119444</td>\n",
       "      <td>0</td>\n",
       "      <td>0</td>\n",
       "      <td>0</td>\n",
       "      <td>0</td>\n",
       "      <td>0</td>\n",
       "      <td>...</td>\n",
       "      <td>0.0</td>\n",
       "      <td>0.210000</td>\n",
       "      <td>0.54</td>\n",
       "      <td>0.705000</td>\n",
       "      <td>0.769167</td>\n",
       "      <td>0.807667</td>\n",
       "      <td>0.081800</td>\n",
       "      <td>2.194808</td>\n",
       "      <td>0.283363</td>\n",
       "      <td>0.080295</td>\n",
       "    </tr>\n",
       "    <tr>\n",
       "      <th>46</th>\n",
       "      <td>12</td>\n",
       "      <td>2.335497</td>\n",
       "      <td>2.640000</td>\n",
       "      <td>1.000000</td>\n",
       "      <td>0.166667</td>\n",
       "      <td>0</td>\n",
       "      <td>0</td>\n",
       "      <td>0</td>\n",
       "      <td>0</td>\n",
       "      <td>0</td>\n",
       "      <td>...</td>\n",
       "      <td>0.0</td>\n",
       "      <td>0.350000</td>\n",
       "      <td>0.90</td>\n",
       "      <td>1.000000</td>\n",
       "      <td>1.000000</td>\n",
       "      <td>1.000000</td>\n",
       "      <td>0.112367</td>\n",
       "      <td>2.055237</td>\n",
       "      <td>0.389249</td>\n",
       "      <td>0.151515</td>\n",
       "    </tr>\n",
       "    <tr>\n",
       "      <th>47</th>\n",
       "      <td>12</td>\n",
       "      <td>3.464102</td>\n",
       "      <td>12.000000</td>\n",
       "      <td>0.666667</td>\n",
       "      <td>0.055556</td>\n",
       "      <td>0</td>\n",
       "      <td>0</td>\n",
       "      <td>0</td>\n",
       "      <td>0</td>\n",
       "      <td>0</td>\n",
       "      <td>...</td>\n",
       "      <td>0.0</td>\n",
       "      <td>0.000000</td>\n",
       "      <td>0.00</td>\n",
       "      <td>0.300000</td>\n",
       "      <td>0.483333</td>\n",
       "      <td>0.593333</td>\n",
       "      <td>0.055556</td>\n",
       "      <td>3.464102</td>\n",
       "      <td>0.192450</td>\n",
       "      <td>0.037037</td>\n",
       "    </tr>\n",
       "  </tbody>\n",
       "</table>\n",
       "<p>5 rows × 22 columns</p>\n",
       "</div>"
      ],
      "text/plain": [
       "                                 count        cv       kurt       max  \\\n",
       "category day_of_week bin_of_day                                         \n",
       "IVT      6           43             12  1.929904   2.592905  1.000000   \n",
       "                     44             12  3.464102  12.000000  1.000000   \n",
       "                     45             12  2.372342   3.667887  0.833333   \n",
       "                     46             12  2.335497   2.640000  1.000000   \n",
       "                     47             12  3.464102  12.000000  0.666667   \n",
       "\n",
       "                                     mean  min  p50  p55  p60  p65    ...     \\\n",
       "category day_of_week bin_of_day                                       ...      \n",
       "IVT      6           43          0.172222    0    0    0    0    0    ...      \n",
       "                     44          0.083333    0    0    0    0    0    ...      \n",
       "                     45          0.119444    0    0    0    0    0    ...      \n",
       "                     46          0.166667    0    0    0    0    0    ...      \n",
       "                     47          0.055556    0    0    0    0    0    ...      \n",
       "\n",
       "                                 p80       p85   p90       p95      p975  \\\n",
       "category day_of_week bin_of_day                                            \n",
       "IVT      6           43          0.4  0.523333  0.56  0.761667  0.880833   \n",
       "                     44          0.0  0.000000  0.00  0.450000  0.725000   \n",
       "                     45          0.0  0.210000  0.54  0.705000  0.769167   \n",
       "                     46          0.0  0.350000  0.90  1.000000  1.000000   \n",
       "                     47          0.0  0.000000  0.00  0.300000  0.483333   \n",
       "\n",
       "                                      p99       sem      skew     stdev  \\\n",
       "category day_of_week bin_of_day                                           \n",
       "IVT      6           43          0.952333  0.095948  1.835588  0.332372   \n",
       "                     44          0.890000  0.083333  3.464102  0.288675   \n",
       "                     45          0.807667  0.081800  2.194808  0.283363   \n",
       "                     46          1.000000  0.112367  2.055237  0.389249   \n",
       "                     47          0.593333  0.055556  3.464102  0.192450   \n",
       "\n",
       "                                      var  \n",
       "category day_of_week bin_of_day            \n",
       "IVT      6           43          0.110471  \n",
       "                     44          0.083333  \n",
       "                     45          0.080295  \n",
       "                     46          0.151515  \n",
       "                     47          0.037037  \n",
       "\n",
       "[5 rows x 22 columns]"
      ]
     },
     "execution_count": 13,
     "metadata": {},
     "output_type": "execute_result"
    }
   ],
   "source": [
    "occ_df.tail()"
   ]
  },
  {
   "cell_type": "code",
   "execution_count": 14,
   "metadata": {
    "collapsed": false
   },
   "outputs": [
    {
     "name": "stdout",
     "output_type": "stream",
     "text": [
      "<class 'pandas.core.frame.DataFrame'>\n",
      "MultiIndex: 1008 entries, (CAT, 0, 0) to (IVT, 6, 47)\n",
      "Data columns (total 22 columns):\n",
      "count    1008 non-null float64\n",
      "cv       1008 non-null float64\n",
      "kurt     1008 non-null float64\n",
      "max      1008 non-null float64\n",
      "mean     1008 non-null float64\n",
      "min      1008 non-null float64\n",
      "p50      1008 non-null float64\n",
      "p55      1008 non-null float64\n",
      "p60      1008 non-null float64\n",
      "p65      1008 non-null float64\n",
      "p70      1008 non-null float64\n",
      "p75      1008 non-null float64\n",
      "p80      1008 non-null float64\n",
      "p85      1008 non-null float64\n",
      "p90      1008 non-null float64\n",
      "p95      1008 non-null float64\n",
      "p975     1008 non-null float64\n",
      "p99      1008 non-null float64\n",
      "sem      1008 non-null float64\n",
      "skew     1008 non-null float64\n",
      "stdev    1008 non-null float64\n",
      "var      1008 non-null float64\n",
      "dtypes: float64(22)\n",
      "memory usage: 181.1+ KB\n"
     ]
    }
   ],
   "source": [
    "occ_df.info()"
   ]
  },
  {
   "cell_type": "markdown",
   "metadata": {},
   "source": [
    "#### Example 3 - Running via a Python script\n",
    "Of course, you don't have to run Python statements through an IPython notebook. You can simply create a short Python script and run that directly in a terminal. An example, `test_shortstay.py`, can be found in the `scripts` subfolder of the hillmaker-examples project. You can run it from a command prompt like this:\n",
    "\n",
    "```sh\n",
    "python test_shortstay.py\n",
    "```\n",
    "\n",
    "Here's what it looks like - you can modify as necessary for your needs. There is another example in that folder as well, `test_obsim_log.py`, that is slightly more complex in that the input data has raw simulation times (i.e. minutes past t=0) and we need to do some datetime math to turn them into calendar based inputs."
   ]
  },
  {
   "cell_type": "code",
   "execution_count": 15,
   "metadata": {
    "collapsed": false
   },
   "outputs": [
    {
     "name": "stdout",
     "output_type": "stream",
     "text": [
      "min of intime: 1996-01-01 07:44:00\n",
      "max of outtime: 1996-09-30 23:35:00\n",
      "Datetime DataFrame created (seconds): 16.5991\n",
      "Summaries by datetime created (seconds): 17.4285\n",
      "Summaries by category created (seconds): 0.2457\n",
      "Summaries exported to csv (seconds): 0.1536\n",
      "Total time (seconds): 34.4285\n"
     ]
    }
   ],
   "source": [
    "import pandas as pd\n",
    "\n",
    "import hillmaker as hm\n",
    "\n",
    "file_stopdata = '../data/ShortStay.csv'\n",
    "\n",
    "# Required inputs\n",
    "scenario = 'sstest_120'\n",
    "in_fld_name = 'InRoomTS'\n",
    "out_fld_name = 'OutRoomTS'\n",
    "cat_fld_name = 'PatType'\n",
    "start = '1/1/1996'\n",
    "end = '3/30/1996 23:45'\n",
    "\n",
    "# Optional inputs\n",
    "tot_fld_name = 'SSU'\n",
    "bin_mins = 120\n",
    "\n",
    "\n",
    "\n",
    "df = pd.read_csv(file_stopdata, parse_dates=[in_fld_name, out_fld_name])\n",
    "\n",
    "hm.make_hills(scenario, df, in_fld_name, out_fld_name,\n",
    "                     start, end, cat_fld_name,\n",
    "                     tot_fld_name, bin_mins,\n",
    "                     cat_to_exclude=None,\n",
    "                     verbose=1)"
   ]
  },
  {
   "cell_type": "markdown",
   "metadata": {},
   "source": [
    "More elaborate versions of scripts like `test_shortstay.py` can be envisioned. For example, an entire folder of input data files could be processed by simple enclosing the `hm.make_hills` call inside a loop over the collection of input files:"
   ]
  },
  {
   "cell_type": "code",
   "execution_count": null,
   "metadata": {
    "collapsed": false
   },
   "outputs": [],
   "source": [
    "for log_fn in glob.glob('logs/*.csv'):\n",
    "    \n",
    "        # Read the log file and filter by included categories\n",
    "        stops_df = pd.read_csv(log_fn, parse_dates=[in_fld_name, out_fld_name])\n",
    "        \n",
    "        hm.make_hills(scenario, df, in_fld_name, out_fld_name, start, end, cat_fld_name)\n",
    "        ..."
   ]
  }
 ],
 "metadata": {
  "kernelspec": {
   "display_name": "Python 3",
   "language": "python",
   "name": "python3"
  },
  "language_info": {
   "codemirror_mode": {
    "name": "ipython",
    "version": 3
   },
   "file_extension": ".py",
   "mimetype": "text/x-python",
   "name": "python",
   "nbconvert_exporter": "python",
   "pygments_lexer": "ipython3",
   "version": "3.5.1"
  }
 },
 "nbformat": 4,
 "nbformat_minor": 0
}
