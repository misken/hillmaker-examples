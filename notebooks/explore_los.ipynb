{
 "cells": [
  {
   "cell_type": "code",
   "execution_count": 12,
   "id": "c72a4e3e-bbdc-4ac1-b3e4-02b4906c7404",
   "metadata": {},
   "outputs": [],
   "source": [
    "import pandas as pd\n",
    "import numpy as np\n",
    "import matplotlib.pyplot as plt\n",
    "from IPython.core.display import display # This import is needed to use display() with a figure\n",
    "                                         # Useful when using multiple notebook cells to tweak a plot design.\n",
    "    \n",
    "import math"
   ]
  },
  {
   "cell_type": "code",
   "execution_count": 2,
   "id": "5faee8ec-30ff-4c81-9e3b-1f67e4fc6024",
   "metadata": {},
   "outputs": [],
   "source": [
    "stops_df = pd.read_csv('../data/ShortStay.csv', parse_dates=['InRoomTS', 'OutRoomTS'])"
   ]
  },
  {
   "cell_type": "code",
   "execution_count": 3,
   "id": "2670aa20-80d1-4902-bd08-401e047b377c",
   "metadata": {},
   "outputs": [
    {
     "data": {
      "text/html": [
       "<div>\n",
       "<style scoped>\n",
       "    .dataframe tbody tr th:only-of-type {\n",
       "        vertical-align: middle;\n",
       "    }\n",
       "\n",
       "    .dataframe tbody tr th {\n",
       "        vertical-align: top;\n",
       "    }\n",
       "\n",
       "    .dataframe thead th {\n",
       "        text-align: right;\n",
       "    }\n",
       "</style>\n",
       "<table border=\"1\" class=\"dataframe\">\n",
       "  <thead>\n",
       "    <tr style=\"text-align: right;\">\n",
       "      <th></th>\n",
       "      <th>PatID</th>\n",
       "      <th>InRoomTS</th>\n",
       "      <th>OutRoomTS</th>\n",
       "      <th>PatType</th>\n",
       "    </tr>\n",
       "  </thead>\n",
       "  <tbody>\n",
       "    <tr>\n",
       "      <th>0</th>\n",
       "      <td>1</td>\n",
       "      <td>1996-01-01 07:44:00</td>\n",
       "      <td>1996-01-01 08:50:00</td>\n",
       "      <td>IVT</td>\n",
       "    </tr>\n",
       "    <tr>\n",
       "      <th>1</th>\n",
       "      <td>2</td>\n",
       "      <td>1996-01-01 08:28:00</td>\n",
       "      <td>1996-01-01 09:20:00</td>\n",
       "      <td>IVT</td>\n",
       "    </tr>\n",
       "    <tr>\n",
       "      <th>2</th>\n",
       "      <td>3</td>\n",
       "      <td>1996-01-01 11:44:00</td>\n",
       "      <td>1996-01-01 13:30:00</td>\n",
       "      <td>MYE</td>\n",
       "    </tr>\n",
       "    <tr>\n",
       "      <th>3</th>\n",
       "      <td>4</td>\n",
       "      <td>1996-01-01 11:51:00</td>\n",
       "      <td>1996-01-01 12:55:00</td>\n",
       "      <td>CAT</td>\n",
       "    </tr>\n",
       "    <tr>\n",
       "      <th>4</th>\n",
       "      <td>5</td>\n",
       "      <td>1996-01-01 12:10:00</td>\n",
       "      <td>1996-01-01 13:00:00</td>\n",
       "      <td>IVT</td>\n",
       "    </tr>\n",
       "    <tr>\n",
       "      <th>...</th>\n",
       "      <td>...</td>\n",
       "      <td>...</td>\n",
       "      <td>...</td>\n",
       "      <td>...</td>\n",
       "    </tr>\n",
       "    <tr>\n",
       "      <th>59872</th>\n",
       "      <td>59873</td>\n",
       "      <td>1996-09-30 19:31:00</td>\n",
       "      <td>1996-09-30 20:15:00</td>\n",
       "      <td>IVT</td>\n",
       "    </tr>\n",
       "    <tr>\n",
       "      <th>59873</th>\n",
       "      <td>59874</td>\n",
       "      <td>1996-09-30 20:23:00</td>\n",
       "      <td>1996-09-30 21:30:00</td>\n",
       "      <td>IVT</td>\n",
       "    </tr>\n",
       "    <tr>\n",
       "      <th>59874</th>\n",
       "      <td>59875</td>\n",
       "      <td>1996-09-30 21:00:00</td>\n",
       "      <td>1996-09-30 22:45:00</td>\n",
       "      <td>CAT</td>\n",
       "    </tr>\n",
       "    <tr>\n",
       "      <th>59875</th>\n",
       "      <td>59876</td>\n",
       "      <td>1996-09-30 21:57:00</td>\n",
       "      <td>1996-09-30 22:40:00</td>\n",
       "      <td>IVT</td>\n",
       "    </tr>\n",
       "    <tr>\n",
       "      <th>59876</th>\n",
       "      <td>59877</td>\n",
       "      <td>1996-09-30 22:45:00</td>\n",
       "      <td>1996-09-30 23:35:00</td>\n",
       "      <td>CAT</td>\n",
       "    </tr>\n",
       "  </tbody>\n",
       "</table>\n",
       "<p>59877 rows × 4 columns</p>\n",
       "</div>"
      ],
      "text/plain": [
       "       PatID            InRoomTS           OutRoomTS PatType\n",
       "0          1 1996-01-01 07:44:00 1996-01-01 08:50:00     IVT\n",
       "1          2 1996-01-01 08:28:00 1996-01-01 09:20:00     IVT\n",
       "2          3 1996-01-01 11:44:00 1996-01-01 13:30:00     MYE\n",
       "3          4 1996-01-01 11:51:00 1996-01-01 12:55:00     CAT\n",
       "4          5 1996-01-01 12:10:00 1996-01-01 13:00:00     IVT\n",
       "...      ...                 ...                 ...     ...\n",
       "59872  59873 1996-09-30 19:31:00 1996-09-30 20:15:00     IVT\n",
       "59873  59874 1996-09-30 20:23:00 1996-09-30 21:30:00     IVT\n",
       "59874  59875 1996-09-30 21:00:00 1996-09-30 22:45:00     CAT\n",
       "59875  59876 1996-09-30 21:57:00 1996-09-30 22:40:00     IVT\n",
       "59876  59877 1996-09-30 22:45:00 1996-09-30 23:35:00     CAT\n",
       "\n",
       "[59877 rows x 4 columns]"
      ]
     },
     "execution_count": 3,
     "metadata": {},
     "output_type": "execute_result"
    }
   ],
   "source": [
    "stops_df"
   ]
  },
  {
   "cell_type": "code",
   "execution_count": 4,
   "id": "65904e86-24db-412b-bed7-796de66c7201",
   "metadata": {},
   "outputs": [],
   "source": [
    "stops_df['los'] = stops_df['OutRoomTS'] - stops_df['InRoomTS']"
   ]
  },
  {
   "cell_type": "code",
   "execution_count": 5,
   "id": "96666269-df28-43e4-8260-6f578afa5486",
   "metadata": {},
   "outputs": [],
   "source": [
    "los_hours = stops_df['los'] / pd.Timedelta(1, \"h\")"
   ]
  },
  {
   "cell_type": "code",
   "execution_count": 8,
   "id": "e51fc160-3df8-43e8-afa4-efaf0ccfe63e",
   "metadata": {},
   "outputs": [
    {
     "data": {
      "text/plain": [
       "count    59877.000000\n",
       "mean         1.213662\n",
       "std          0.627664\n",
       "min          0.000000\n",
       "25%          0.816667\n",
       "50%          1.116667\n",
       "75%          1.500000\n",
       "max         10.916667\n",
       "Name: los, dtype: float64"
      ]
     },
     "execution_count": 8,
     "metadata": {},
     "output_type": "execute_result"
    }
   ],
   "source": [
    "los_hours.describe()"
   ]
  },
  {
   "cell_type": "code",
   "execution_count": 16,
   "id": "a1b08983-a8b7-40b2-a505-a3952fcbacc5",
   "metadata": {},
   "outputs": [
    {
     "data": {
      "text/plain": [
       "2.3230573281759668"
      ]
     },
     "execution_count": 16,
     "metadata": {},
     "output_type": "execute_result"
    }
   ],
   "source": [
    "los_hours.skew()"
   ]
  },
  {
   "cell_type": "code",
   "execution_count": 21,
   "id": "29e7ee6d-13f8-4655-855e-e072ac9322a6",
   "metadata": {},
   "outputs": [],
   "source": [
    "def num_bins_doane(data):\n",
    "    n = len(data)\n",
    "    m3 = data.skew()\n",
    "    sg1 = math.sqrt(6 * (n - 2)/((n + 1) * (n + 3)))\n",
    "    \n",
    "    num_bins = math.ceil(1 + math.log2(len(los_hours)) + math.log2(1 + abs(m3) / sg1))\n",
    "    \n",
    "    return num_bins"
   ]
  },
  {
   "cell_type": "code",
   "execution_count": 22,
   "id": "2186e51a-6d6c-44d6-9902-92012c41fcaf",
   "metadata": {},
   "outputs": [
    {
     "name": "stdout",
     "output_type": "stream",
     "text": [
      "25\n"
     ]
    }
   ],
   "source": [
    "num_bins = num_bins_doane(los_hours)\n",
    "print(num_bins)"
   ]
  },
  {
   "cell_type": "code",
   "execution_count": 25,
   "id": "3f56d41d-9fcb-40d7-9e77-2f94d8accce4",
   "metadata": {},
   "outputs": [
    {
     "data": {
      "image/png": "[encoded data removed]",
      "text/plain": [
       "<Figure size 432x288 with 1 Axes>"
      ]
     },
     "metadata": {
      "needs_background": "light"
     },
     "output_type": "display_data"
    }
   ],
   "source": [
    "\"\"\"\n",
    "Demo of the histogram (hist) function with a few features.\n",
    "\n",
    "In addition to the basic histogram, this demo shows a few optional features:\n",
    "\n",
    "    * Setting the number of data bins\n",
    "    * The ``normed`` flag, which normalizes bin heights so that the integral of\n",
    "      the histogram is 1. The resulting histogram is a probability density.\n",
    "    * Setting the face color of the bars\n",
    "    * Setting the opacity (alpha value).\n",
    "\n",
    "\"\"\"\n",
    "\n",
    "# the histogram of the data\n",
    "# normed=1 plots probs instead of counts, alpha in [0,1] is transparency level (RGBA colors)\n",
    "plt.hist(los_hours, num_bins, density=1, facecolor='green', alpha=0.5)\n",
    "plt.xlabel('Hours')\n",
    "plt.ylabel('Probability')\n",
    "plt.title('Distribution of Length of Stay')\n",
    "#plt.axis([0, 200, 0, 0.06])\n",
    "plt.grid(True)\n",
    "plt.show()\n"
   ]
  },
  {
   "cell_type": "code",
   "execution_count": 26,
   "id": "e1fef579-b96d-452b-afc8-b8eb34e23301",
   "metadata": {},
   "outputs": [
    {
     "data": {
      "image/png": "[encoded data removed]",
      "text/plain": [
       "<Figure size 432x288 with 1 Axes>"
      ]
     },
     "metadata": {
      "needs_background": "light"
     },
     "output_type": "display_data"
    }
   ],
   "source": [
    "\"\"\"\n",
    "Same as demo above but modified number of bins, color of bars and transparency level\n",
    "\n",
    "In addition to the basic histogram, this demo shows a few optional features:\n",
    "\n",
    "    * Setting the number of data bins\n",
    "    * The ``normed`` flag, which normalizes bin heights so that the integral of\n",
    "      the histogram is 1. The resulting histogram is a probability density.\n",
    "    * Setting the face color of the bars\n",
    "    * Setting the opacity (alpha value).\n",
    "\n",
    "\"\"\"\n",
    "\n",
    "# the histogram of the data\n",
    "# normed=1 plots probs instead of counts, alpha in [0,1] is transparency level (RGBA colors)\n",
    "plt.hist(los_hours, 50, density=1, facecolor='blue', alpha=0.75)\n",
    "plt.xlabel('Hours')\n",
    "plt.ylabel('Density')\n",
    "plt.title('Distribution of Length of Stay')\n",
    "#plt.axis([0, 200, 0, 0.06])\n",
    "plt.grid(True)\n",
    "plt.show()\n"
   ]
  },
  {
   "cell_type": "code",
   "execution_count": null,
   "id": "c599e1a3-a729-4cb1-8a6b-20da11f372f6",
   "metadata": {},
   "outputs": [],
   "source": []
  },
  {
   "cell_type": "code",
   "execution_count": null,
   "id": "493bee03-2949-4f68-9cf5-01794f987f83",
   "metadata": {},
   "outputs": [],
   "source": []
  },
  {
   "cell_type": "code",
   "execution_count": null,
   "id": "7a0ad460-ecde-4f30-8de4-0789b83dd4fd",
   "metadata": {},
   "outputs": [],
   "source": []
  }
 ],
 "metadata": {
  "kernelspec": {
   "display_name": "Python [conda env:hm_oo]",
   "language": "python",
   "name": "conda-env-hm_oo-py"
  },
  "language_info": {
   "codemirror_mode": {
    "name": "ipython",
    "version": 3
   },
   "file_extension": ".py",
   "mimetype": "text/x-python",
   "name": "python",
   "nbconvert_exporter": "python",
   "pygments_lexer": "ipython3",
   "version": "3.10.12"
  }
 },
 "nbformat": 4,
 "nbformat_minor": 5
}
