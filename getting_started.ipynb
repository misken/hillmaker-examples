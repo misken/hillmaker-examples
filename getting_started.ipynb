{
 "cells": [
  {
   "cell_type": "markdown",
   "id": "f4ce95a0-c359-492d-8e83-0504a5ef286b",
   "metadata": {},
   "source": [
    "# Getting started with hillmaker"
   ]
  },
  {
   "cell_type": "markdown",
   "id": "7cdefbbd-263b-464f-91d5-79b17a0154b8",
   "metadata": {},
   "source": [
    "In this tutorial we'll focus on basic use of hillmaker for analyzing arrivals, departures, and occupancy by time of day and day of week for a typical *discrete entity flow system*. A few examples of such systems include:\n",
    "\n",
    "- patients arriving, undergoing some sort of care process and departing some healthcare system (e.g. emergency department, surgical recovery, nursing unit, outpatient clinic, and many more)\n",
    "- customers renting, using, and returning bikes in a bike share system,\n",
    "- users of licensed software checking out, using, checking back in a software license,\n",
    "- products undergoing some sort of manufacturing or assembly process - occupancy is WIP,\n",
    "- patrons arriving, dining and leaving a restaurant,\n",
    "- travelers renting, residing in, and checking out of a hotel,\n",
    "- flights taking off and arriving at their destination,\n",
    "- ...\n",
    "\n",
    "Basically, any sort of discrete [stock and flow system](https://en.wikipedia.org/wiki/Stock_and_flow) for which you are interested in time of day and day of week specific statistical summaries of occupancy, arrivals and departures, and have raw data on the arrival and departure times, is fair game for hillmaker."
   ]
  },
  {
   "cell_type": "markdown",
   "id": "bfa741da-c428-41c5-bafb-b745b4f8fb74",
   "metadata": {},
   "source": [
    "## Installation\n",
    "\n",
    "You can use pip to install hillmaker into the Python virtual environment of your choice.\n",
    "\n",
    "```\n",
    "pip install hillmaker\n",
    "```"
   ]
  },
  {
   "cell_type": "markdown",
   "id": "a08ecfcf-645e-49f2-af3d-1858f65f937c",
   "metadata": {},
   "source": [
    "## Ways of using hillmaker\n",
    "\n",
    "There are currently three ways of using hillmaker. \n",
    "\n",
    "1. Command line interface (CLI)\n",
    "2. Calling a single Python function\n",
    "3. An object oriented API in Python\n",
    "\n",
    "The plan is to add a fourth option:\n",
    "\n",
    "4. Through a GUI interface (not implemented yet)\n",
    "\n",
    "Depending on your level of comfort with Python, you can choose the method that works best for you. This Getting Started tutorial will demo all three ways of using hillmaker and subsequent tutorials will go into more detail. There are numerous input parameters that can be used to customize the behavior of hillmaker and we'll only touch on a few in this tutorial."
   ]
  },
  {
   "cell_type": "markdown",
   "id": "8d0985be-100c-431e-ad65-2cd264dde9ba",
   "metadata": {},
   "source": [
    "## Module imports\n",
    "To run hillmaker we only need to import a few modules. Often we will be using pandas as part of our analysis and we'll import that as well. "
   ]
  },
  {
   "cell_type": "code",
   "execution_count": 1,
   "id": "8f082295-0ed4-4f5d-b649-ace295ce5cf1",
   "metadata": {
    "tags": [
     "remove-cell"
    ]
   },
   "outputs": [],
   "source": [
    "%load_ext autoreload\n",
    "%autoreload 2"
   ]
  },
  {
   "cell_type": "code",
   "execution_count": 2,
   "id": "f84dca87-4a53-4d0e-bbb1-9c4ddd90ef57",
   "metadata": {},
   "outputs": [],
   "source": [
    "from pathlib import Path\n",
    "import pandas as pd\n",
    "import hillmaker as hm"
   ]
  },
  {
   "cell_type": "markdown",
   "id": "b7b49da2-ebea-47c7-81a4-5d5831c82255",
   "metadata": {},
   "source": [
    "## A prototypical example - occupancy analysis of a hospital Short Stay Unit\n",
    "\n",
    "Patients flow through a short stay unit (SSU) for a variety of procedures, tests or therapies. Let's assume patients can be classified into one of five categories of patient types: ART (arterialgram), CAT (post cardiac-cath), MYE (myelogram), IVT (IV therapy), and OTH (other). We are interested in occupancy statistics by time of day and day of week to support things like staff scheduling and capacity planning.\n",
    "\n",
    "From one of our hospital information systems we were able to get raw data about the entry and exit times of each patient and exported the data to a csv file. We call each row of such data a *stop* (as in, the patient stopped here for a while). Let's take a peek at the data by first reading the csv file into a pandas `DataFrame`."
   ]
  },
  {
   "cell_type": "code",
   "execution_count": null,
   "id": "20adf576-8216-48ef-a1fd-1e51518eab0d",
   "metadata": {},
   "outputs": [],
   "source": [
    "ssu_stopdata = 'https://raw.githubusercontent.com/misken/hillmaker-examples/main/data/ssu_2024.csv'\n",
    "# ssu_stopdata = './data/ssu_2024.csv'\n",
    "stops_df = pd.read_csv(ssu_stopdata, parse_dates=['InRoomTS','OutRoomTS'])\n",
    "stops_df.info() "
   ]
  },
  {
   "cell_type": "code",
   "execution_count": null,
   "id": "79eab3a8-c2fd-4011-b46c-62bb8390d37e",
   "metadata": {},
   "outputs": [],
   "source": [
    "stops_df.head()"
   ]
  },
  {
   "cell_type": "markdown",
   "id": "7791ef95-0aef-4bb2-95ae-45981ac0c080",
   "metadata": {},
   "source": [
    "Before running hillmaker, we need to know the timeframe for which we have data. "
   ]
  },
  {
   "cell_type": "code",
   "execution_count": null,
   "id": "88fd1be2-086b-4ee8-b477-99cfcc9683d1",
   "metadata": {},
   "outputs": [],
   "source": [
    "stops_df['InRoomTS'].min()"
   ]
  },
  {
   "cell_type": "code",
   "execution_count": null,
   "id": "119391ea-c70b-4d62-8c39-a7ad98128e2d",
   "metadata": {},
   "outputs": [],
   "source": [
    "stops_df['InRoomTS'].max()"
   ]
  },
  {
   "cell_type": "markdown",
   "id": "9bc1b90d-d436-416c-881f-f9795f02f1f5",
   "metadata": {},
   "source": [
    "Looks like we have data from Jan through Sept of 2024. Since patients usually stay for less than 24 hours in an SSU, we'll do our occupancy analysis starting on January 2, 2024 (since the 1st is a holiday) and ending on September 30, 2024. Later in the tutorial we'll discuss the important issues of choosing an appropriate analysis timeframe and *horizon effects*. "
   ]
  },
  {
   "cell_type": "markdown",
   "id": "1aff7283-6d04-404a-82c7-f0c40bb65728",
   "metadata": {},
   "source": [
    "As part of an operational analysis we would like to compute a number of relevant statistics, such as:\n",
    "\n",
    "- mean and 95th percentile of overall SSU occupancy by hour of day and day of week,\n",
    "- similar hourly statistics for patient arrivals and departures,\n",
    "- all of the above but by patient type as well.\n",
    "\n",
    "In addition to tabular summaries, let's make some plots showing the mean and 95th percentile of occupancy by time of day and day of week."
   ]
  },
  {
   "cell_type": "markdown",
   "id": "96fe85a2-a06f-431f-9ad0-c67a6b61bf17",
   "metadata": {},
   "source": [
    "## Running hillmaker via the command line interface (CLI)\n",
    "\n",
    "To run hillmaker from the command line, make sure that you are using whatever virtual environment within which hillmaker is installed. Let's see the help for hillmaker's CLI:\n",
    "\n",
    "```bash\n",
    "> hillmaker -h\n",
    "```"
   ]
  },
  {
   "cell_type": "markdown",
   "id": "d181093a-9c89-4680-a807-3d4193abdbc7",
   "metadata": {},
   "source": [
    "```bash\n",
    "usage: hillmaker [--scenario_name SCENARIO_NAME] [--data DATA]\n",
    "                 [--in_field IN_FIELD] [--out_field OUT_FIELD]\n",
    "                 [--start_analysis_dt START_ANALYSIS_DT]\n",
    "                 [--end_analysis_dt END_ANALYSIS_DT] [--config CONFIG]\n",
    "                 [--cat_field CAT_FIELD] [--bin_size_minutes BIN_SIZE_MINUTES]\n",
    "                 [--cats_to_exclude [CATS_TO_EXCLUDE ...]]\n",
    "                 [--occ_weight_field OCC_WEIGHT_FIELD]\n",
    "                 [--percentiles [PERCENTILES ...]] [--los_units LOS_UNITS]\n",
    "                 [--csv_export_path CSV_EXPORT_PATH] [--no_dow_plots]\n",
    "                 [--no_week_plots] [--plot_export_path PLOT_EXPORT_PATH]\n",
    "                 [--plot_style PLOT_STYLE] [--figsize FIGSIZE FIGSIZE]\n",
    "                 [--bar_color_mean BAR_COLOR_MEAN] [--alpha ALPHA]\n",
    "                 [--plot_percentiles PLOT_PERCENTILES [PLOT_PERCENTILES ...]]\n",
    "                 [--pctile_color PCTILE_COLOR [PCTILE_COLOR ...]]\n",
    "                 [--pctile_linestyle PCTILE_LINESTYLE [PCTILE_LINESTYLE ...]]\n",
    "                 [--pctile_linewidth [PCTILE_LINEWIDTH ...]] [--cap CAP]\n",
    "                 [--cap_color CAP_COLOR] [--xlabel XLABEL] [--ylabel YLABEL]\n",
    "                 [--main_title MAIN_TITLE] [--subtitle SUBTITLE]\n",
    "                 [--first_dow FIRST_DOW] [--edge_bins EDGE_BINS]\n",
    "                 [--highres_bin_size_minutes HIGHRES_BIN_SIZE_MINUTES]\n",
    "                 [--keep_highres_bydatetime] [--verbosity VERBOSITY] [-h]\n",
    "\n",
    "Occupancy analysis by time of day and day of week\n",
    "\n",
    "Required arguments (either on command line or via config file):\n",
    "  --scenario_name SCENARIO_NAME\n",
    "                        Used in output filenames\n",
    "  --data DATA           Path to csv file containing the stop data to be\n",
    "                        processed\n",
    "  --in_field IN_FIELD   Column name corresponding to the arrival times\n",
    "  --out_field OUT_FIELD\n",
    "                        Column name corresponding to the departure times\n",
    "  --start_analysis_dt START_ANALYSIS_DT\n",
    "                        Starting datetime for the analysis (use yyyy-mm-dd\n",
    "                        format)\n",
    "  --end_analysis_dt END_ANALYSIS_DT\n",
    "                        Ending datetime for the analysis (use yyyy-mm-dd\n",
    "                        format)\n",
    "\n",
    "Optional arguments:\n",
    "  --config CONFIG       Configuration file (TOML format) containing input\n",
    "                        parameter arguments and values. Input parameters set\n",
    "                        via a config file will override parameters values\n",
    "                        passed via the command line.\n",
    "  --cat_field CAT_FIELD\n",
    "                        Column name corresponding to the categories. If None,\n",
    "                        then only overall occupancy is analyzed.\n",
    "  --bin_size_minutes BIN_SIZE_MINUTES\n",
    "                        Number of minutes in each time bin of the day\n",
    "                        (default=60) for aggregate statistics and plots.\n",
    "  --cats_to_exclude [CATS_TO_EXCLUDE ...]\n",
    "                        Category values to exclude from the analysis.\n",
    "  --occ_weight_field OCC_WEIGHT_FIELD\n",
    "                        Column name corresponding to occupancy weights. If\n",
    "                        None, then weight of 1.0 is used. Default is None.\n",
    "  --percentiles [PERCENTILES ...]\n",
    "                        Which percentiles to compute\n",
    "  --los_units LOS_UNITS\n",
    "                        The time units for length of stay analysis. See https:\n",
    "                        //pandas.pydata.org/docs/reference/api/pandas.Timedelt\n",
    "                        a.html for allowable values (smallest value allowed is\n",
    "                        'seconds', largest is 'days'. The default is 'hours'.\n",
    "  --csv_export_path CSV_EXPORT_PATH\n",
    "                        Destination path for exported csv files, default is\n",
    "                        current directory.\n",
    "  --no_dow_plots        If set, no day of week plots are created.\n",
    "  --no_week_plots       If set, no weekly plots are created.\n",
    "  --plot_export_path PLOT_EXPORT_PATH\n",
    "                        Destination path for exported plots, default is\n",
    "                        current directory.\n",
    "  --plot_style PLOT_STYLE\n",
    "                        Matplotlib style name.\n",
    "  --figsize FIGSIZE FIGSIZE\n",
    "                        Figure size\n",
    "  --bar_color_mean BAR_COLOR_MEAN\n",
    "                        Matplotlib color name for the bars representing mean\n",
    "                        values.\n",
    "  --alpha ALPHA         Transparency for bars, default=0.5.\n",
    "  --plot_percentiles PLOT_PERCENTILES [PLOT_PERCENTILES ...]\n",
    "                        Which percentiles to plot\n",
    "  --pctile_color PCTILE_COLOR [PCTILE_COLOR ...]\n",
    "                        Line color for each percentile series plotted. Order\n",
    "                        should match order of percentiles list.\n",
    "  --pctile_linestyle PCTILE_LINESTYLE [PCTILE_LINESTYLE ...]\n",
    "                        Line style for each percentile series plotted.\n",
    "  --pctile_linewidth [PCTILE_LINEWIDTH ...]\n",
    "                        Line width for each percentile series plotted.\n",
    "  --cap CAP             Capacity level line to include in occupancy plots\n",
    "  --cap_color CAP_COLOR\n",
    "                        Matplotlib color code.\n",
    "  --xlabel XLABEL       x-axis label for plots.\n",
    "  --ylabel YLABEL       y-axis label for plots.\n",
    "  --main_title MAIN_TITLE\n",
    "                        Main title for plot. Default = '{Occupancy, Arrivals,\n",
    "                        Departures} by time of day and day of week'\n",
    "  --subtitle SUBTITLE   Subtitle for plot. Default = 'Scenario:\n",
    "                        {scenario_name}'\n",
    "  --first_dow FIRST_DOW\n",
    "                        Controls which day of week appears first in plot. One\n",
    "                        of 'mon', 'tue', 'wed', 'thu', 'fri', 'sat, 'sun'\n",
    "  -h, --help\n",
    "\n",
    "Advanced optional arguments:\n",
    "  --edge_bins EDGE_BINS\n",
    "                        Occupancy contribution method for arrival and\n",
    "                        departure bins. 1=fractional, 2=entire bin\n",
    "  --highres_bin_size_minutes HIGHRES_BIN_SIZE_MINUTES\n",
    "                        Number of minutes in each time bin of the day used for\n",
    "                        initial computation of the number of arrivals,\n",
    "                        departures, and the occupancy level. This value should\n",
    "                        be <= `bin_size_minutes`. The shorter the duration of\n",
    "                        stays, the smaller the resolution should be if using\n",
    "                        edge_bins=2. See docs for more details.\n",
    "  --keep_highres_bydatetime\n",
    "                        Save the high resolution bydatetime dataframe in hills\n",
    "                        attribute.\n",
    "  --verbosity VERBOSITY\n",
    "                        Used to set level in loggers. 0=logging.WARNING,\n",
    "                        1=logging.INFO (default), 2=logging.DEBUG\n",
    "```"
   ]
  },
  {
   "cell_type": "markdown",
   "id": "fe1d7061-213c-4a4e-ba51-24c5940415ae",
   "metadata": {},
   "source": [
    "There are several required arguments: \n",
    "\n",
    "- SCENARIO_NAME - a scenario name, \n",
    "- DATA - the path to the csv file containing the stop data, \n",
    "- IN_FIELD, OUT_FIELD - the field names containing the arrival times and the departure times, \n",
    "- START_ANALYSIS_DT, END_ANALYSIS_DT - starting and ending dates for the analysis.\n",
    "\n",
    "There are also numerous optional arguments controlling how hillmaker works and which outputs are created.\n",
    "\n",
    "Let's run hillmaker by specifying the required arguments as well as an output path for plots and csv files. The stop data file, `ssu_2024.csv` is in the `data` folder. We'll output plots and csv summary files to the `output` folder. Typically, we would also specify a category field - in this case it would be `PatType`. We'll use 60 minutes for the time bin size. \n",
    "\n"
   ]
  },
  {
   "cell_type": "markdown",
   "id": "a81d96e8-a753-449c-8bd5-5aa95344b491",
   "metadata": {},
   "source": [
    "By default, hillmaker prints out several informational messages. You can suppress these with `--verbosity 0`. You can get even more detailed status messages (useful for debugging) by using `--verbosity 2`."
   ]
  },
  {
   "cell_type": "markdown",
   "id": "282cc49e-a909-4def-9eee-5ccd3433574f",
   "metadata": {},
   "source": [
    "```bash\n",
    "> hillmaker --scenario cli_demo_ssu_60 --data ./data/ssu_2024.csv \\\n",
    "--in_field InRoomTS --out_field OutRoomTS --cat_field PatType --bin_size_minutes 60 \\\n",
    "--start_analysis_dt 2024-01-02 --end_analysis_dt 2024-09-30 --csv_export_path output --plot_export_path output --ylabel Patients \n",
    "```\n",
    "\n"
   ]
  },
  {
   "cell_type": "code",
   "execution_count": null,
   "id": "8e33236e-9a91-4d8c-8be4-bfe1ad6d330e",
   "metadata": {
    "tags": [
     "remove-input"
    ]
   },
   "outputs": [],
   "source": [
    "!hillmaker --scenario cli_demo_ssu_60 --data ./data/ssu_2024.csv \\\n",
    "--in_field InRoomTS --out_field OutRoomTS --cat_field PatType --bin_size_minutes 60 \\\n",
    "--start_analysis_dt 2024-01-02 --end_analysis_dt 2024-09-30 --csv_export_path output --plot_export_path output --ylabel Patients \n",
    "\n"
   ]
  },
  {
   "cell_type": "markdown",
   "id": "805b3c12-b37e-4cb0-9677-021a92b5dd2e",
   "metadata": {},
   "source": [
    "## CSV file outputs\n",
    "When you use the CLI, CSV versions of the output tables are exported to `CSV_EXPORT_PATH`."
   ]
  },
  {
   "cell_type": "code",
   "execution_count": null,
   "id": "632b4e3d-7db8-4907-8b75-6b5585edb8fa",
   "metadata": {
    "tags": [
     "remove-cell"
    ]
   },
   "outputs": [],
   "source": [
    "for fname in Path('output/').glob('cli_demo_ssu_60*.csv'):\n",
    "    print(fname)"
   ]
  },
  {
   "cell_type": "markdown",
   "id": "1a062245-47d7-4e3b-a78e-be190415cc96",
   "metadata": {},
   "source": [
    "There are four groups of files, each beginning with the scenario name `'cli_demo_ssu_60'`. \n",
    "\n",
    "- `occupancy`, `arrivals`, `departures` - summary statistics for occupancy, arrivals and departures\n",
    "- `bydatetime` - number of arrivals, departures and occupancy level by datetime bin over the analysis range (e.g. individual hours on each date)\n",
    "\n",
    "Usually it's the occupancy summaries that we are most interested in. From each occupancy related filename, we can infer the grouping levels used for the summary statistics.\n",
    "\n",
    "### \\<scenario name\\>_occupancy_dow_binofday.csv\n",
    "\n",
    "This is probably the most used summary as it gives us overall occupancy statistics by time bin of day (in this case, hourly) and day of week. We can read it into a pandas `DataFrame` and take a look. Since we used hourly time bins, there will be 168 rows in the summary. Numerous summary statistics are computed for each hour of the week."
   ]
  },
  {
   "cell_type": "code",
   "execution_count": null,
   "id": "9606a9f6-cf6b-4f42-af72-f2dc447661b7",
   "metadata": {},
   "outputs": [],
   "source": [
    "occ_dow_binofday_df = pd.read_csv('output/cli_demo_ssu_60_occupancy_dow_binofday.csv')\n",
    "occ_dow_binofday_df.head(30)\n"
   ]
  },
  {
   "cell_type": "markdown",
   "id": "d82e7ed2-8c00-4579-9908-b53bbadb8864",
   "metadata": {},
   "source": [
    "From the `count` field we can see that there were 39 Mondays in the analysis date range. It is this `DataFrame` that used to create the weekly and day of week plots."
   ]
  },
  {
   "cell_type": "markdown",
   "id": "649122a0-b38c-41a8-926c-1f17d872cb7d",
   "metadata": {},
   "source": [
    "Plots are created in PNG format and exported to `PLOT_EXPORT_PATH`."
   ]
  },
  {
   "cell_type": "code",
   "execution_count": null,
   "id": "54bd3dbc-afa4-4813-b139-cdd61bc87250",
   "metadata": {},
   "outputs": [],
   "source": [
    "[fname.name for fname in Path('output/').glob('cli_demo_ssu_60*occupancy*.png')]"
   ]
  },
  {
   "cell_type": "code",
   "execution_count": null,
   "id": "9798991c-899a-4065-b963-60b30a5811db",
   "metadata": {},
   "outputs": [],
   "source": [
    "from IPython.display import Image\n",
    "Image('output/cli_demo_ssu_60_occupancy_week.png')"
   ]
  },
  {
   "cell_type": "markdown",
   "id": "541aac44-96b8-4c6c-b302-22e73b77edb5",
   "metadata": {},
   "source": [
    "There are also day of week specific plots."
   ]
  },
  {
   "cell_type": "code",
   "execution_count": null,
   "id": "825fe4fa-3949-466b-8f10-4dc6c0ec45b6",
   "metadata": {},
   "outputs": [],
   "source": [
    "Image('output/cli_demo_ssu_60_occupancy_wed.png')"
   ]
  },
  {
   "cell_type": "markdown",
   "id": "b15ab24b-9afd-4930-a158-75d9d764bcb3",
   "metadata": {
    "tags": []
   },
   "source": [
    "### \\<scenario name\\>_PatType_dow_binofday.csv\n",
    "\n",
    "This is the most detailed summary as it is grouped by category (patient type in this example), day of week and hour of day.  This `DataFrame` is useful for seeing how individual patient types contribute to overall occupancy in the SSU. \n"
   ]
  },
  {
   "cell_type": "code",
   "execution_count": null,
   "id": "424a3c44-302f-4428-9fc4-a26adad65b66",
   "metadata": {},
   "outputs": [],
   "source": [
    "occ_PatType_dow_binofday_df = pd.read_csv('output/cli_demo_ssu_60_occupancy_PatType_dow_binofday.csv')\n",
    "occ_PatType_dow_binofday_df.iloc[50:75]\n"
   ]
  },
  {
   "cell_type": "markdown",
   "id": "25b3b6cb-acd8-447a-8ef8-ecf01da165dc",
   "metadata": {},
   "source": [
    "The other two occupancy related csv files are summaries aggregated over time. One, `cli_demo_ssu_60_occupancy_PatType.csv`, is grouped by the category field and the other, `cli_demo_ssu_60_occupancy.csv`, is aggregated both over time and category.\n"
   ]
  },
  {
   "cell_type": "code",
   "execution_count": null,
   "id": "fa930a91-56ec-4992-beb6-69eaa512360a",
   "metadata": {},
   "outputs": [],
   "source": [
    "occ_PatType_df = pd.read_csv('output/cli_demo_ssu_60_occupancy_PatType.csv')\n",
    "occ_PatType_df\n"
   ]
  },
  {
   "cell_type": "code",
   "execution_count": null,
   "id": "9fb7cdc3-43da-4a0f-b153-88cf5b077688",
   "metadata": {},
   "outputs": [],
   "source": [
    "occ_df = pd.read_csv('output/cli_demo_ssu_60_occupancy.csv')\n",
    "occ_df\n"
   ]
  },
  {
   "cell_type": "markdown",
   "id": "934dc22b-e99b-466a-bee6-8a91e268ea4e",
   "metadata": {},
   "source": [
    "### The bydatetime files\n",
    "The remaining CSV files provided detailed occupancy, arrival and departures values for every time bin over the entire analysis range. For example, here's what `cli_demo_ssu_60_bydatetime_datetime.csv` looks like."
   ]
  },
  {
   "cell_type": "code",
   "execution_count": null,
   "id": "5652ca84-141f-4d88-ad09-f3b192215b22",
   "metadata": {},
   "outputs": [],
   "source": [
    "bydatetime_df = pd.read_csv('output/cli_demo_ssu_60_bydatetime_datetime.csv')\n",
    "bydatetime_df.head(15)\n"
   ]
  },
  {
   "cell_type": "markdown",
   "id": "ee54bd79-f057-4170-9e3a-794aa0a5ac2a",
   "metadata": {},
   "source": [
    "Notice that the occupancy field contains non-integer values. This is by design. For now, it is enough to say that occupancy in each time bin is proportional to the time a patient spent in the system during that time bin. For example, if a patient arrives at 7:15a and departs at 9:30a, then their contribution to occupancy in the `bydatetime` dataframe is:\n",
    "\n",
    "| time bin  |occupancy   |\n",
    "|---|---|\n",
    "|07-08   | 0.75  |\n",
    "| 08-09  | 1.00  |\n",
    "| 09-10  | 0.50  |\n",
    "\n",
    "For all the details on how hillmaker computes occupancy and options for controlling those computations, see {doc}`topic guide on occupancy computation <computing_occupancy>`."
   ]
  },
  {
   "cell_type": "markdown",
   "id": "6b3b70b6-7aa4-494d-a795-3005231c748d",
   "metadata": {},
   "source": [
    "## Using the `make_hills` function\n",
    "\n",
    "Before the creation of the object-oriented API, hillmaker could be used by calling a single, module level, function called `make_hills`. This type of legacy use is still possible. The `make_hills` function returns a dictionary containing DataFrames and plots along with a few other items. We'll use the same example but will use two-hour time bins. \n",
    "\n",
    "Like the CLI, the legacy `make_hills` function can create and explot all plots as well the dataframes as CSV files. This behavior can be more finely controlled through input arguments. See {doc}`using_make_hills` for all the details.\n",
    "\n",
    "Notice that since we already read the CSV data into a pandas `DataFrame` named `stops_df`, we can use that for the `data=` argument.\n"
   ]
  },
  {
   "cell_type": "code",
   "execution_count": null,
   "id": "6150a6e2-a13d-4f03-8c1e-d8c088d2ce4b",
   "metadata": {},
   "outputs": [],
   "source": [
    "# Required inputs\n",
    "scenario_name = 'func_demo_ssu_120'\n",
    "in_field_name = 'InRoomTS'\n",
    "out_field_name = 'OutRoomTS'\n",
    "start_date = '2024-01-02'\n",
    "end_date = '2024-09-30'\n",
    "\n",
    "# Optional inputs\n",
    "cat_field_name = 'PatType'\n",
    "verbosity = 1  # INFO level logging\n",
    "csv_export_path = './output'\n",
    "plot_export_path = './output'\n",
    "bin_size_minutes = 120\n",
    "\n",
    "# Use legacy function interface\n",
    "hills = hm.make_hills(scenario_name=scenario_name, data=stops_df,\n",
    "              in_field=in_field_name, out_field=out_field_name,\n",
    "              start_analysis_dt=start_date, end_analysis_dt=end_date,\n",
    "              cat_field=cat_field_name,\n",
    "              bin_size_minutes=bin_size_minutes,\n",
    "              csv_export_path=csv_export_path, plot_export_path=plot_export_path, verbosity=verbosity)\n",
    "\n",
    "# Get and display occupancy plot\n",
    "occ_plot = hm.get_plot(hills, 'occupancy')\n",
    "occ_plot"
   ]
  },
  {
   "cell_type": "markdown",
   "id": "1baee6da-1f14-4c7d-9aeb-af8658b9e1af",
   "metadata": {},
   "source": [
    "This histogram looks \"blockier\" due to the two-hour bin sizes."
   ]
  },
  {
   "cell_type": "markdown",
   "id": "14829794-f80e-4cdf-b24e-47abbaba5888",
   "metadata": {},
   "source": [
    "## Using the object oriented hillmaker API\n",
    "\n",
    "For more control over hillmaker you can use the object oriented API. In this tutorial we'll just do a brief introduction. You can get more details in {doc}`using_oo_api`.\n",
    "\n",
    "The main steps in using the API are:\n",
    "\n",
    "- create a `Scenario` object initialized with your hillmaker inputs,\n",
    "- call the `make_hills` method to run hillmaker and store the outputs in the `Scenario` object,\n",
    "- use methods to retrieve `Dataframe` objects, plots and other outputs\n",
    "\n",
    "Here's a brief example. We'll use the same inputs as in the first example, except for setting `bin_size_minutes=30`. By default, plots aren't automatically created or exported. We will use the `export_all_week_plots` argument to create and export just the weekly plots. There are a number of other input arguments that can be used for more detailed control of the hillmaker analysis process, but we'll hold off on that for now."
   ]
  },
  {
   "cell_type": "code",
   "execution_count": null,
   "id": "da126c6d-e1cd-4043-95c8-a077ce54ae28",
   "metadata": {},
   "outputs": [],
   "source": [
    "oo_demo_ssu_30 = hm.Scenario(scenario_name='oo_demo_ssu_30',\n",
    "                             data=stops_df,\n",
    "                             in_field='InRoomTS',\n",
    "                             out_field='OutRoomTS',\n",
    "                             start_analysis_dt='2024-01-02',\n",
    "                             end_analysis_dt='2024-09-30',\n",
    "                             cat_field='PatType',\n",
    "                             bin_size_minutes=30,\n",
    "                             plot_export_path='./output',\n",
    "                             export_all_week_plots=True)\n",
    "\n",
    "# Show datatype\n",
    "type(oo_demo_ssu_30)"
   ]
  },
  {
   "cell_type": "markdown",
   "id": "ce94e5fd-e93b-42cc-81cf-6d9d54ea05a7",
   "metadata": {},
   "source": [
    "You can see the values for all of the input parameters by printing the scenario object."
   ]
  },
  {
   "cell_type": "code",
   "execution_count": null,
   "id": "4d5f2efb-cd10-4f4b-9363-87c1f980be3c",
   "metadata": {},
   "outputs": [],
   "source": [
    "print(oo_demo_ssu_30)"
   ]
  },
  {
   "cell_type": "markdown",
   "id": "dbfb91e2-644e-43e0-83a5-960f6c732bee",
   "metadata": {},
   "source": [
    "Let's make some hills. By default, the `verbosity` parameter is set to 0 - we won't get any messages unless they are warnings or errors."
   ]
  },
  {
   "cell_type": "code",
   "execution_count": null,
   "id": "c0c988e0-b61f-4e48-8437-81169a391301",
   "metadata": {},
   "outputs": [],
   "source": [
    "oo_demo_ssu_30.make_hills()"
   ]
  },
  {
   "cell_type": "markdown",
   "id": "7f5760ac-01fc-4306-ad99-f1a4dacd99d6",
   "metadata": {},
   "source": [
    "All of the outputs from running `make_hills` get stored in an attribute dictionary called `hills`."
   ]
  },
  {
   "cell_type": "code",
   "execution_count": null,
   "id": "9987ee0b-8d8f-47b4-a342-d24eed6afd54",
   "metadata": {},
   "outputs": [],
   "source": [
    "oo_demo_ssu_30.hills.keys()"
   ]
  },
  {
   "cell_type": "markdown",
   "id": "0689fdf7-f4da-43ed-a732-1c29a8a80eca",
   "metadata": {},
   "source": [
    "There are methods for retrieving specific items from this dictionary. For example, there is `get_plot`."
   ]
  },
  {
   "cell_type": "code",
   "execution_count": null,
   "id": "eb56d4c5-521f-49e5-9fc5-2c183325e05d",
   "metadata": {},
   "outputs": [],
   "source": [
    "help(oo_demo_ssu_30.get_plot)"
   ]
  },
  {
   "cell_type": "code",
   "execution_count": null,
   "id": "906b63fd-903c-40bf-910d-c2ee9b0cf894",
   "metadata": {},
   "outputs": [],
   "source": [
    "oo_demo_ssu_30.get_plot('occupancy')"
   ]
  },
  {
   "cell_type": "markdown",
   "id": "14f4caec-9954-4aba-be0d-6fbf9ba47f06",
   "metadata": {},
   "source": [
    "Similarly, we can use `get_bydatetime_df` and `get_summary` to get at specific results `DataFrame` objects."
   ]
  },
  {
   "cell_type": "code",
   "execution_count": null,
   "id": "6dbb09e4-ffd5-4ca4-92ed-af5af2ac9a9f",
   "metadata": {},
   "outputs": [],
   "source": [
    "help(oo_demo_ssu_30.get_bydatetime_df)"
   ]
  },
  {
   "cell_type": "code",
   "execution_count": null,
   "id": "954d09db-7aa5-43d8-a4dc-433c8217c80c",
   "metadata": {},
   "outputs": [],
   "source": [
    "oo_demo_ssu_30.get_bydatetime_df(by_category=False)"
   ]
  },
  {
   "cell_type": "markdown",
   "id": "2dafb408-fc25-4964-94b0-794086c1e876",
   "metadata": {},
   "source": [
    "You may have noticed that there were a few other keys in the `hills` dictionary. For example, we can get a simple length of stay summary. The summary is comprised of two histogram plots and two tabular summaries - one each that are by category and one that is aggregated over all records in the stop data."
   ]
  },
  {
   "cell_type": "code",
   "execution_count": null,
   "id": "6c689267-6dc0-4920-ad15-67d38b53855a",
   "metadata": {},
   "outputs": [],
   "source": [
    "oo_demo_ssu_30.hills['los_summary']"
   ]
  },
  {
   "cell_type": "code",
   "execution_count": null,
   "id": "a0a0d0d1-1e8e-4d4f-9893-5bb5f98a362e",
   "metadata": {},
   "outputs": [],
   "source": [
    "oo_demo_ssu_30.get_los_plot()"
   ]
  },
  {
   "cell_type": "code",
   "execution_count": null,
   "id": "14442db3-1847-438a-a11d-030b7bd80986",
   "metadata": {},
   "outputs": [],
   "source": [
    "oo_demo_ssu_30.get_los_plot(by_category=False)"
   ]
  },
  {
   "cell_type": "code",
   "execution_count": null,
   "id": "6cd1b35e-528e-43ba-9533-cd115ae030c6",
   "metadata": {},
   "outputs": [],
   "source": [
    "oo_demo_ssu_30.get_los_stats()"
   ]
  },
  {
   "cell_type": "code",
   "execution_count": null,
   "id": "7c677283-ed19-4695-ad4d-be15d6076e0b",
   "metadata": {},
   "outputs": [],
   "source": [
    "oo_demo_ssu_30.get_los_stats(by_category=False)"
   ]
  },
  {
   "cell_type": "markdown",
   "id": "39fae6f6-be45-45b3-9186-9d98babab407",
   "metadata": {},
   "source": [
    "See {doc}`using_oo_api` for all the details on using the API."
   ]
  }
 ],
 "metadata": {
  "kernelspec": {
   "display_name": "Python [conda env:hm_oo]",
   "language": "python",
   "name": "conda-env-hm_oo-py"
  },
  "language_info": {
   "codemirror_mode": {
    "name": "ipython",
    "version": 3
   },
   "file_extension": ".py",
   "mimetype": "text/x-python",
   "name": "python",
   "nbconvert_exporter": "python",
   "pygments_lexer": "ipython3",
   "version": "3.10.12"
  }
 },
 "nbformat": 4,
 "nbformat_minor": 5
}
